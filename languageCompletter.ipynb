{
  "nbformat": 4,
  "nbformat_minor": 0,
  "metadata": {
    "colab": {
      "name": "languageCompletter.ipynb",
      "provenance": [],
      "collapsed_sections": []
    },
    "kernelspec": {
      "name": "python3",
      "display_name": "Python 3"
    },
    "language_info": {
      "name": "python"
    },
    "accelerator": "GPU"
  },
  "cells": [
    {
      "cell_type": "code",
      "metadata": {
        "id": "Qh-tyaaV4u0c"
      },
      "source": [
        "import string\n",
        "import numpy as np\n",
        "\n",
        "from keras.preprocessing.text import Tokenizer\n",
        "from keras.preprocessing.sequence import pad_sequences\n",
        "from keras.models import Model\n",
        "from keras.layers import LSTM, Input, TimeDistributed, Dense, Activation, Bidirectional\n",
        "from keras.optimizers import Adam\n",
        "from keras.losses import sparse_categorical_crossentropy"
      ],
      "execution_count": null,
      "outputs": []
    },
    {
      "cell_type": "code",
      "metadata": {
        "colab": {
          "base_uri": "https://localhost:8080/"
        },
        "id": "ODSOKBvo423O",
        "outputId": "cbde4558-9420-45fd-c1ad-0c87ebd007bb"
      },
      "source": [
        "def clean_sentence(sentence):\n",
        "    # Lower case the sentence\n",
        "    lower_case_sent = sentence.lower()\n",
        "    # Strip punctuation\n",
        "    string_punctuation = string.punctuation + \"¡\" + '¿'\n",
        "    clean_sentence = lower_case_sent.translate(str.maketrans('', '', string_punctuation))\n",
        "   \n",
        "    return clean_sentence\n",
        "\n",
        "print(clean_sentence(\"I will surf today !!\"))"
      ],
      "execution_count": null,
      "outputs": [
        {
          "output_type": "stream",
          "text": [
            "i will surf today \n"
          ],
          "name": "stdout"
        }
      ]
    },
    {
      "cell_type": "code",
      "metadata": {
        "id": "9uWzjR7F84VX"
      },
      "source": [
        "def tokenize(sentences):\n",
        "    # Create tokenizer\n",
        "    text_tokenizer = Tokenizer()\n",
        "    # Fit texts\n",
        "    text_tokenizer.fit_on_texts(sentences)\n",
        "    return text_tokenizer.texts_to_sequences(sentences), text_tokenizer"
      ],
      "execution_count": null,
      "outputs": []
    },
    {
      "cell_type": "code",
      "metadata": {
        "id": "awDcPqxw6Wjp"
      },
      "source": [
        "dutch_data = [\"Hoeveel kost dit?\", \"Ik mag je erg graag.\", \"Maak hem alsjeblieft wakker.\", \"Waar is het vliegveld?\", \"Het boek is te duur.\", \"Het heeft geen zin.\", \"Ik zou graag iets willen kopen.\", \"De TV is kapot.\", \"Het is niet te moeilijk.\", \"Dat is niet genoeg.\"]\n",
        "german_data = [\"Wie viel kostet das?\", \"Ich mag Sie sehr\", \"Bitte weckt ihn auf.\", \"Wo ist der Flughafen?\", \"Das Buch ist zu teuer.\", \"Das macht keinen Sinn.\", \"Ich würde gerne etwas kaufen.\", \"Der Fernseher ist kaputt.\", \"Es ist nicht allzu schwierig.\", \"Das ist nicht genug.\"]\n",
        "english_data = [\"How much does this cost?\", \"I like you very much.\", \"Please wake him up.\", \"Where is the airport?\", \"The book is too expensive.\", \"It makes no sense.\", \"I would like to buy something.\", \"The TV is broken.\", \"It is not too difficult.\", \"That is not enough.\"]"
      ],
      "execution_count": null,
      "outputs": []
    },
    {
      "cell_type": "code",
      "metadata": {
        "colab": {
          "base_uri": "https://localhost:8080/"
        },
        "id": "Dlo1Ccw27rvL",
        "outputId": "7fe4aa87-700c-42a2-84f2-7a4e87404fd9"
      },
      "source": [
        "# Clean sentences\n",
        "english_sentences = [clean_sentence(tmp) for tmp in english_data]\n",
        "german_sentences = [clean_sentence(tmp) for tmp in german_data]\n",
        "dutch_sentences = [clean_sentence(tmp) for tmp in dutch_data]\n",
        "\n",
        "print(english_sentences[0])"
      ],
      "execution_count": null,
      "outputs": [
        {
          "output_type": "stream",
          "text": [
            "how much does this cost\n"
          ],
          "name": "stdout"
        }
      ]
    },
    {
      "cell_type": "code",
      "metadata": {
        "colab": {
          "base_uri": "https://localhost:8080/"
        },
        "id": "rr1OmTIt8QNT",
        "outputId": "814f0e00-d671-44dc-ef7f-377f70ac74c1"
      },
      "source": [
        "# Tokenize words\n",
        "english_text_tokenized, english_text_tokenizer = tokenize(english_sentences)\n",
        "german_text_tokenized, german_text_tokenizer = tokenize(german_sentences)\n",
        "dutch_text_tokenized, dutch_text_tokenizer = tokenize(dutch_sentences)\n",
        "\n",
        "print(english_text_tokenized)\n",
        "print(english_text_tokenizer)\n",
        "\n",
        "# Check language length\n",
        "english_vocab = len(english_text_tokenizer.word_index) + 1\n",
        "print(\"English vocabulary is of {} unique words\".format(english_vocab))\n",
        "\n",
        "german_vocab = len(german_text_tokenizer.word_index) + 1\n",
        "print(\"german vocabulary is of {} unique words\".format(german_vocab))\n",
        "\n",
        "dutch_vocab = len(dutch_text_tokenizer.word_index) + 1\n",
        "print(\"dutch vocabulary is of {} unique words\".format(dutch_vocab))"
      ],
      "execution_count": null,
      "outputs": [
        {
          "output_type": "stream",
          "text": [
            "[[9, 3, 10, 11, 12], [4, 5, 13, 14, 3], [15, 16, 17, 18], [19, 1, 2, 20], [2, 21, 1, 6, 22], [7, 23, 24, 25], [4, 26, 5, 27, 28, 29], [2, 30, 1, 31], [7, 1, 8, 6, 32], [33, 1, 8, 34]]\n",
            "<keras_preprocessing.text.Tokenizer object at 0x7fcaa4a78b10>\n",
            "English vocabulary is of 35 unique words\n",
            "german vocabulary is of 34 unique words\n",
            "dutch vocabulary is of 34 unique words\n"
          ],
          "name": "stdout"
        }
      ]
    },
    {
      "cell_type": "code",
      "metadata": {
        "id": "6XPPFpMa96b4"
      },
      "source": [
        "max_sentence_length = 6\n",
        "english_pad_sentence = pad_sequences(english_text_tokenized, max_sentence_length, padding = \"post\")\n",
        "german_pad_sentence = pad_sequences(german_text_tokenized, max_sentence_length, padding = \"post\")\n",
        "dutch_pad_sentence = pad_sequences(dutch_text_tokenized, max_sentence_length, padding = \"post\")\n",
        "\n",
        "# Reshape data\n",
        "english_pad_sentence = english_pad_sentence.reshape(*english_pad_sentence.shape, 1)\n",
        "german_pad_sentence = german_pad_sentence.reshape(*german_pad_sentence.shape, 1)\n",
        "dutch_pad_sentence = dutch_pad_sentence.reshape(*dutch_pad_sentence.shape, 1)"
      ],
      "execution_count": null,
      "outputs": []
    },
    {
      "cell_type": "code",
      "metadata": {
        "id": "Q8yB4WIY-2C0"
      },
      "source": [
        "input_shape = (max_sentence_length, 2)\n",
        "input_sequence = Input(input_shape, name='InputLayer')\n",
        "rnn = LSTM(256, return_sequences=True, dropout=0.5, name='RNNLayer')(input_sequence)\n",
        "logits = TimeDistributed(Dense(dutch_vocab), name='TimeDistributed')(rnn)\n",
        "\n",
        "model = Model(input_sequence, Activation('softmax')(logits))\n",
        "model.compile(loss=sparse_categorical_crossentropy,\n",
        "              optimizer=Adam(1e-2),\n",
        "              metrics=['accuracy'])"
      ],
      "execution_count": null,
      "outputs": []
    },
    {
      "cell_type": "code",
      "metadata": {
        "colab": {
          "base_uri": "https://localhost:8080/"
        },
        "id": "M_M5z4dm_K84",
        "outputId": "06bc1680-2a18-4336-c7c6-a574466cd59f"
      },
      "source": [
        "model.summary()"
      ],
      "execution_count": null,
      "outputs": [
        {
          "output_type": "stream",
          "text": [
            "Model: \"model\"\n",
            "_________________________________________________________________\n",
            "Layer (type)                 Output Shape              Param #   \n",
            "=================================================================\n",
            "InputLayer (InputLayer)      [(None, 6, 2)]            0         \n",
            "_________________________________________________________________\n",
            "RNNLayer (LSTM)              (None, 6, 256)            265216    \n",
            "_________________________________________________________________\n",
            "TimeDistributed (TimeDistrib (None, 6, 34)             8738      \n",
            "_________________________________________________________________\n",
            "activation (Activation)      (None, 6, 34)             0         \n",
            "=================================================================\n",
            "Total params: 273,954\n",
            "Trainable params: 273,954\n",
            "Non-trainable params: 0\n",
            "_________________________________________________________________\n"
          ],
          "name": "stdout"
        }
      ]
    },
    {
      "cell_type": "code",
      "metadata": {
        "colab": {
          "base_uri": "https://localhost:8080/"
        },
        "id": "vtjcngjpAIZ0",
        "outputId": "270af627-0f49-4a1b-c446-4dfb6a1f4169"
      },
      "source": [
        "print(english_pad_sentence[0].shape)\n",
        "print(english_pad_sentence[0])\n",
        "\n",
        "print(german_pad_sentence[0].shape)\n",
        "print(german_pad_sentence[0])"
      ],
      "execution_count": null,
      "outputs": [
        {
          "output_type": "stream",
          "text": [
            "(6, 1)\n",
            "[[ 9]\n",
            " [ 3]\n",
            " [10]\n",
            " [11]\n",
            " [12]\n",
            " [ 0]]\n",
            "(6, 1)\n",
            "[[6]\n",
            " [7]\n",
            " [8]\n",
            " [2]\n",
            " [0]\n",
            " [0]]\n"
          ],
          "name": "stdout"
        }
      ]
    },
    {
      "cell_type": "code",
      "metadata": {
        "colab": {
          "base_uri": "https://localhost:8080/"
        },
        "id": "J-iXt82R_QAK",
        "outputId": "8e21b0f1-c0b4-4354-e0f8-9bb47fd4482d"
      },
      "source": [
        "eng_ger_data = np.array([np.concatenate((english_pad_sentence[i], german_pad_sentence[i]), axis=1) for i in range(len(english_pad_sentence))])\n",
        "print(eng_ger_data.shape)\n",
        "print(eng_ger_data[0])"
      ],
      "execution_count": null,
      "outputs": [
        {
          "output_type": "stream",
          "text": [
            "(10, 6, 2)\n",
            "[[ 9  6]\n",
            " [ 3  7]\n",
            " [10  8]\n",
            " [11  2]\n",
            " [12  0]\n",
            " [ 0  0]]\n"
          ],
          "name": "stdout"
        }
      ]
    },
    {
      "cell_type": "code",
      "metadata": {
        "colab": {
          "base_uri": "https://localhost:8080/"
        },
        "id": "3eaUDESiC2r0",
        "outputId": "87cd843f-20fb-4982-ea71-0abb994c32fa"
      },
      "source": [
        "model_results = model.fit(eng_ger_data, dutch_pad_sentence, batch_size=1, epochs=100)\n"
      ],
      "execution_count": null,
      "outputs": [
        {
          "output_type": "stream",
          "text": [
            "Epoch 1/100\n",
            "10/10 [==============================] - 0s 3ms/step - loss: 0.3055 - accuracy: 0.9000\n",
            "Epoch 2/100\n",
            "10/10 [==============================] - 0s 3ms/step - loss: 0.0803 - accuracy: 0.9667\n",
            "Epoch 3/100\n",
            "10/10 [==============================] - 0s 3ms/step - loss: 0.2562 - accuracy: 0.9333\n",
            "Epoch 4/100\n",
            "10/10 [==============================] - 0s 3ms/step - loss: 0.7628 - accuracy: 0.7500\n",
            "Epoch 5/100\n",
            "10/10 [==============================] - 0s 3ms/step - loss: 0.3455 - accuracy: 0.8500\n",
            "Epoch 6/100\n",
            "10/10 [==============================] - 0s 3ms/step - loss: 0.5302 - accuracy: 0.8833\n",
            "Epoch 7/100\n",
            "10/10 [==============================] - 0s 3ms/step - loss: 0.4232 - accuracy: 0.8333\n",
            "Epoch 8/100\n",
            "10/10 [==============================] - 0s 3ms/step - loss: 0.3134 - accuracy: 0.8667\n",
            "Epoch 9/100\n",
            "10/10 [==============================] - 0s 3ms/step - loss: 0.3864 - accuracy: 0.8667\n",
            "Epoch 10/100\n",
            "10/10 [==============================] - 0s 3ms/step - loss: 0.3485 - accuracy: 0.8667\n",
            "Epoch 11/100\n",
            "10/10 [==============================] - 0s 3ms/step - loss: 0.1701 - accuracy: 0.9500\n",
            "Epoch 12/100\n",
            "10/10 [==============================] - 0s 3ms/step - loss: 0.2872 - accuracy: 0.9000\n",
            "Epoch 13/100\n",
            "10/10 [==============================] - 0s 3ms/step - loss: 0.6441 - accuracy: 0.7667\n",
            "Epoch 14/100\n",
            "10/10 [==============================] - 0s 3ms/step - loss: 0.2945 - accuracy: 0.8500\n",
            "Epoch 15/100\n",
            "10/10 [==============================] - 0s 3ms/step - loss: 0.8210 - accuracy: 0.7667\n",
            "Epoch 16/100\n",
            "10/10 [==============================] - 0s 3ms/step - loss: 0.2883 - accuracy: 0.8667\n",
            "Epoch 17/100\n",
            "10/10 [==============================] - 0s 3ms/step - loss: 0.4694 - accuracy: 0.8500\n",
            "Epoch 18/100\n",
            "10/10 [==============================] - 0s 3ms/step - loss: 0.3236 - accuracy: 0.8500\n",
            "Epoch 19/100\n",
            "10/10 [==============================] - 0s 3ms/step - loss: 0.3193 - accuracy: 0.8833\n",
            "Epoch 20/100\n",
            "10/10 [==============================] - 0s 4ms/step - loss: 0.5225 - accuracy: 0.8167\n",
            "Epoch 21/100\n",
            "10/10 [==============================] - 0s 3ms/step - loss: 0.2658 - accuracy: 0.9000\n",
            "Epoch 22/100\n",
            "10/10 [==============================] - 0s 3ms/step - loss: 0.8722 - accuracy: 0.7667\n",
            "Epoch 23/100\n",
            "10/10 [==============================] - 0s 3ms/step - loss: 0.1172 - accuracy: 0.9500\n",
            "Epoch 24/100\n",
            "10/10 [==============================] - 0s 3ms/step - loss: 0.5028 - accuracy: 0.8333\n",
            "Epoch 25/100\n",
            "10/10 [==============================] - 0s 3ms/step - loss: 0.4298 - accuracy: 0.8167\n",
            "Epoch 26/100\n",
            "10/10 [==============================] - 0s 4ms/step - loss: 0.2381 - accuracy: 0.9000\n",
            "Epoch 27/100\n",
            "10/10 [==============================] - 0s 3ms/step - loss: 0.4757 - accuracy: 0.8167\n",
            "Epoch 28/100\n",
            "10/10 [==============================] - 0s 3ms/step - loss: 0.3195 - accuracy: 0.8833\n",
            "Epoch 29/100\n",
            "10/10 [==============================] - 0s 4ms/step - loss: 0.1634 - accuracy: 0.9500\n",
            "Epoch 30/100\n",
            "10/10 [==============================] - 0s 3ms/step - loss: 0.1752 - accuracy: 0.9000\n",
            "Epoch 31/100\n",
            "10/10 [==============================] - 0s 3ms/step - loss: 0.5080 - accuracy: 0.7833\n",
            "Epoch 32/100\n",
            "10/10 [==============================] - 0s 3ms/step - loss: 0.5453 - accuracy: 0.8000\n",
            "Epoch 33/100\n",
            "10/10 [==============================] - 0s 3ms/step - loss: 0.4968 - accuracy: 0.7333\n",
            "Epoch 34/100\n",
            "10/10 [==============================] - 0s 3ms/step - loss: 0.3302 - accuracy: 0.8667\n",
            "Epoch 35/100\n",
            "10/10 [==============================] - 0s 3ms/step - loss: 0.2458 - accuracy: 0.9167\n",
            "Epoch 36/100\n",
            "10/10 [==============================] - 0s 3ms/step - loss: 0.1403 - accuracy: 0.9500\n",
            "Epoch 37/100\n",
            "10/10 [==============================] - 0s 3ms/step - loss: 0.4026 - accuracy: 0.8500\n",
            "Epoch 38/100\n",
            "10/10 [==============================] - 0s 3ms/step - loss: 0.2539 - accuracy: 0.9000\n",
            "Epoch 39/100\n",
            "10/10 [==============================] - 0s 3ms/step - loss: 0.2356 - accuracy: 0.9167\n",
            "Epoch 40/100\n",
            "10/10 [==============================] - 0s 3ms/step - loss: 0.2900 - accuracy: 0.8667\n",
            "Epoch 41/100\n",
            "10/10 [==============================] - 0s 3ms/step - loss: 0.5670 - accuracy: 0.9000\n",
            "Epoch 42/100\n",
            "10/10 [==============================] - 0s 3ms/step - loss: 1.0273 - accuracy: 0.6333\n",
            "Epoch 43/100\n",
            "10/10 [==============================] - 0s 3ms/step - loss: 0.3398 - accuracy: 0.8667\n",
            "Epoch 44/100\n",
            "10/10 [==============================] - 0s 3ms/step - loss: 0.1828 - accuracy: 0.9000\n",
            "Epoch 45/100\n",
            "10/10 [==============================] - 0s 3ms/step - loss: 0.5602 - accuracy: 0.8000\n",
            "Epoch 46/100\n",
            "10/10 [==============================] - 0s 3ms/step - loss: 0.7235 - accuracy: 0.7333\n",
            "Epoch 47/100\n",
            "10/10 [==============================] - 0s 3ms/step - loss: 0.6791 - accuracy: 0.7833\n",
            "Epoch 48/100\n",
            "10/10 [==============================] - 0s 3ms/step - loss: 0.4964 - accuracy: 0.7667\n",
            "Epoch 49/100\n",
            "10/10 [==============================] - 0s 4ms/step - loss: 0.1876 - accuracy: 0.9333\n",
            "Epoch 50/100\n",
            "10/10 [==============================] - 0s 4ms/step - loss: 0.7669 - accuracy: 0.7667\n",
            "Epoch 51/100\n",
            "10/10 [==============================] - 0s 3ms/step - loss: 0.3577 - accuracy: 0.8500\n",
            "Epoch 52/100\n",
            "10/10 [==============================] - 0s 3ms/step - loss: 0.3973 - accuracy: 0.8500\n",
            "Epoch 53/100\n",
            "10/10 [==============================] - 0s 3ms/step - loss: 0.1860 - accuracy: 0.9333\n",
            "Epoch 54/100\n",
            "10/10 [==============================] - 0s 3ms/step - loss: 0.5106 - accuracy: 0.8167\n",
            "Epoch 55/100\n",
            "10/10 [==============================] - 0s 4ms/step - loss: 0.4596 - accuracy: 0.8333\n",
            "Epoch 56/100\n",
            "10/10 [==============================] - 0s 3ms/step - loss: 0.5465 - accuracy: 0.8167\n",
            "Epoch 57/100\n",
            "10/10 [==============================] - 0s 3ms/step - loss: 0.2397 - accuracy: 0.9000\n",
            "Epoch 58/100\n",
            "10/10 [==============================] - 0s 3ms/step - loss: 0.8513 - accuracy: 0.8167\n",
            "Epoch 59/100\n",
            "10/10 [==============================] - 0s 3ms/step - loss: 0.5141 - accuracy: 0.8167\n",
            "Epoch 60/100\n",
            "10/10 [==============================] - 0s 3ms/step - loss: 0.3644 - accuracy: 0.8500\n",
            "Epoch 61/100\n",
            "10/10 [==============================] - 0s 3ms/step - loss: 0.3785 - accuracy: 0.8667\n",
            "Epoch 62/100\n",
            "10/10 [==============================] - 0s 4ms/step - loss: 0.5691 - accuracy: 0.8167\n",
            "Epoch 63/100\n",
            "10/10 [==============================] - 0s 3ms/step - loss: 0.3912 - accuracy: 0.8833\n",
            "Epoch 64/100\n",
            "10/10 [==============================] - 0s 3ms/step - loss: 0.2857 - accuracy: 0.8667\n",
            "Epoch 65/100\n",
            "10/10 [==============================] - 0s 3ms/step - loss: 0.5501 - accuracy: 0.7833\n",
            "Epoch 66/100\n",
            "10/10 [==============================] - 0s 3ms/step - loss: 0.6507 - accuracy: 0.7500\n",
            "Epoch 67/100\n",
            "10/10 [==============================] - 0s 3ms/step - loss: 0.5426 - accuracy: 0.7833\n",
            "Epoch 68/100\n",
            "10/10 [==============================] - 0s 3ms/step - loss: 0.4392 - accuracy: 0.8667\n",
            "Epoch 69/100\n",
            "10/10 [==============================] - 0s 3ms/step - loss: 0.2317 - accuracy: 0.9000\n",
            "Epoch 70/100\n",
            "10/10 [==============================] - 0s 3ms/step - loss: 0.3605 - accuracy: 0.8500\n",
            "Epoch 71/100\n",
            "10/10 [==============================] - 0s 4ms/step - loss: 0.3474 - accuracy: 0.8500\n",
            "Epoch 72/100\n",
            "10/10 [==============================] - 0s 3ms/step - loss: 0.5991 - accuracy: 0.8333\n",
            "Epoch 73/100\n",
            "10/10 [==============================] - 0s 3ms/step - loss: 0.1832 - accuracy: 0.9333\n",
            "Epoch 74/100\n",
            "10/10 [==============================] - 0s 3ms/step - loss: 0.4222 - accuracy: 0.8500\n",
            "Epoch 75/100\n",
            "10/10 [==============================] - 0s 3ms/step - loss: 0.4156 - accuracy: 0.8500\n",
            "Epoch 76/100\n",
            "10/10 [==============================] - 0s 3ms/step - loss: 0.2013 - accuracy: 0.9167\n",
            "Epoch 77/100\n",
            "10/10 [==============================] - 0s 4ms/step - loss: 0.3639 - accuracy: 0.8667\n",
            "Epoch 78/100\n",
            "10/10 [==============================] - 0s 3ms/step - loss: 0.6664 - accuracy: 0.7167\n",
            "Epoch 79/100\n",
            "10/10 [==============================] - 0s 3ms/step - loss: 0.2623 - accuracy: 0.8833\n",
            "Epoch 80/100\n",
            "10/10 [==============================] - 0s 3ms/step - loss: 0.4412 - accuracy: 0.8167\n",
            "Epoch 81/100\n",
            "10/10 [==============================] - 0s 3ms/step - loss: 0.4118 - accuracy: 0.8000\n",
            "Epoch 82/100\n",
            "10/10 [==============================] - 0s 3ms/step - loss: 0.4831 - accuracy: 0.8167\n",
            "Epoch 83/100\n",
            "10/10 [==============================] - 0s 3ms/step - loss: 0.7501 - accuracy: 0.8167\n",
            "Epoch 84/100\n",
            "10/10 [==============================] - 0s 3ms/step - loss: 0.1952 - accuracy: 0.9500\n",
            "Epoch 85/100\n",
            "10/10 [==============================] - 0s 3ms/step - loss: 0.2662 - accuracy: 0.8667\n",
            "Epoch 86/100\n",
            "10/10 [==============================] - 0s 4ms/step - loss: 0.4310 - accuracy: 0.8500\n",
            "Epoch 87/100\n",
            "10/10 [==============================] - 0s 3ms/step - loss: 0.5240 - accuracy: 0.8500\n",
            "Epoch 88/100\n",
            "10/10 [==============================] - 0s 3ms/step - loss: 0.3736 - accuracy: 0.8667\n",
            "Epoch 89/100\n",
            "10/10 [==============================] - 0s 3ms/step - loss: 0.3956 - accuracy: 0.8500\n",
            "Epoch 90/100\n",
            "10/10 [==============================] - 0s 3ms/step - loss: 0.3782 - accuracy: 0.8500\n",
            "Epoch 91/100\n",
            "10/10 [==============================] - 0s 3ms/step - loss: 0.4728 - accuracy: 0.7833\n",
            "Epoch 92/100\n",
            "10/10 [==============================] - 0s 3ms/step - loss: 0.5322 - accuracy: 0.8500\n",
            "Epoch 93/100\n",
            "10/10 [==============================] - 0s 3ms/step - loss: 0.1247 - accuracy: 0.9500\n",
            "Epoch 94/100\n",
            "10/10 [==============================] - 0s 3ms/step - loss: 0.4693 - accuracy: 0.8000\n",
            "Epoch 95/100\n",
            "10/10 [==============================] - 0s 3ms/step - loss: 0.4351 - accuracy: 0.8500\n",
            "Epoch 96/100\n",
            "10/10 [==============================] - 0s 3ms/step - loss: 0.2311 - accuracy: 0.9000\n",
            "Epoch 97/100\n",
            "10/10 [==============================] - 0s 3ms/step - loss: 0.4425 - accuracy: 0.7833\n",
            "Epoch 98/100\n",
            "10/10 [==============================] - 0s 3ms/step - loss: 0.3636 - accuracy: 0.9000\n",
            "Epoch 99/100\n",
            "10/10 [==============================] - 0s 4ms/step - loss: 0.2441 - accuracy: 0.9167\n",
            "Epoch 100/100\n",
            "10/10 [==============================] - 0s 3ms/step - loss: 0.5231 - accuracy: 0.8667\n"
          ],
          "name": "stdout"
        }
      ]
    },
    {
      "cell_type": "code",
      "metadata": {
        "id": "OAQHqJGsD7oQ"
      },
      "source": [
        "def logits_to_sentence(logits, tokenizer):\n",
        "\n",
        "    index_to_words = {idx: word for word, idx in tokenizer.word_index.items()}\n",
        "    index_to_words[0] = '<empty>' \n",
        "\n",
        "    return ' '.join([index_to_words[prediction] for prediction in np.argmax(logits, 1)])"
      ],
      "execution_count": null,
      "outputs": []
    },
    {
      "cell_type": "code",
      "metadata": {
        "colab": {
          "base_uri": "https://localhost:8080/"
        },
        "id": "5AO0aWpvDwMS",
        "outputId": "2082dd83-65a8-42db-8054-6d53d0887242"
      },
      "source": [
        "index = 4\n",
        "print(\"The english sentence is: {}\".format(english_sentences[index]))\n",
        "print(\"The german sentence is: {}\".format(german_sentences[index]))\n",
        "print(\"The dutch sentence is    : {}\".format(dutch_sentences[index]))\n",
        "print('The predicted sentence is: ', end=\"\")\n",
        "print(logits_to_sentence(model.predict(eng_ger_data[index:index+1])[0], dutch_text_tokenizer))"
      ],
      "execution_count": null,
      "outputs": [
        {
          "output_type": "stream",
          "text": [
            "The english sentence is: the book is too expensive\n",
            "The german sentence is: das buch ist zu teuer\n",
            "The dutch sentence is    : het boek is te duur\n",
            "The predicted sentence is: het boek is te duur <empty>\n"
          ],
          "name": "stdout"
        }
      ]
    }
  ]
}