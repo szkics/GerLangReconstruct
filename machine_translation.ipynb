{
  "nbformat": 4,
  "nbformat_minor": 0,
  "metadata": {
    "kernelspec": {
      "display_name": "Python 3",
      "language": "python",
      "name": "python3"
    },
    "language_info": {
      "codemirror_mode": {
        "name": "ipython",
        "version": 3
      },
      "file_extension": ".py",
      "mimetype": "text/x-python",
      "name": "python",
      "nbconvert_exporter": "python",
      "pygments_lexer": "ipython3",
      "version": "3.6.3"
    },
    "colab": {
      "name": "machine_translation.ipynb",
      "provenance": [],
      "include_colab_link": true
    }
  },
  "cells": [
    {
      "cell_type": "markdown",
      "metadata": {
        "id": "view-in-github",
        "colab_type": "text"
      },
      "source": [
        "<a href=\"https://colab.research.google.com/github/szkics/GerLangReconstruct/blob/main/machine_translation.ipynb\" target=\"_parent\"><img src=\"https://colab.research.google.com/assets/colab-badge.svg\" alt=\"Open In Colab\"/></a>"
      ]
    },
    {
      "cell_type": "code",
      "metadata": {
        "colab": {
          "base_uri": "https://localhost:8080/"
        },
        "id": "DlpoGrbJ0udr",
        "outputId": "0c37253c-43fc-497a-ba1e-566618392590"
      },
      "source": [
        "from google.colab import drive\n",
        "drive.mount('/content/gdrive')"
      ],
      "execution_count": null,
      "outputs": [
        {
          "output_type": "stream",
          "text": [
            "Mounted at /content/gdrive\n"
          ],
          "name": "stdout"
        }
      ]
    },
    {
      "cell_type": "code",
      "metadata": {
        "colab": {
          "base_uri": "https://localhost:8080/"
        },
        "id": "bN1om6V8wDEs",
        "outputId": "528f62d6-9f79-4228-e56b-d7dee2f45b00"
      },
      "source": [
        "!pip uninstall googletrans"
      ],
      "execution_count": 26,
      "outputs": [
        {
          "output_type": "stream",
          "text": [
            "Uninstalling googletrans-3.0.0:\n",
            "  Would remove:\n",
            "    /usr/local/lib/python3.7/dist-packages/googletrans-3.0.0-py3.7.egg\n",
            "Proceed (y/n)? y\n",
            "  Successfully uninstalled googletrans-3.0.0\n"
          ],
          "name": "stdout"
        }
      ]
    },
    {
      "cell_type": "code",
      "metadata": {
        "id": "7bvQo-_ZwLMp"
      },
      "source": [
        "!pip install googletrans==3.1.0a0"
      ],
      "execution_count": null,
      "outputs": []
    },
    {
      "cell_type": "code",
      "metadata": {
        "colab": {
          "base_uri": "https://localhost:8080/"
        },
        "id": "qTRBWvZEt2W2",
        "outputId": "bf21fee4-cb68-42cb-d844-f6e9b20b29f9"
      },
      "source": [
        "from googletrans import Translator\n",
        "detector = Translator()\n",
        "english_sentence = 'The sea is a cold place.'\n",
        "german_sentence = translator.translate(english_sentence, src='en',dest='de')\n",
        "\n",
        "print(german_sentence.text)"
      ],
      "execution_count": 10,
      "outputs": [
        {
          "output_type": "stream",
          "text": [
            "Das Meer ist ein kalter Ort.\n"
          ],
          "name": "stdout"
        }
      ]
    },
    {
      "cell_type": "code",
      "metadata": {
        "id": "X-waNiMR3k8Z",
        "outputId": "d49f533c-5079-4f0a-e251-ba746b87af86",
        "colab": {
          "base_uri": "https://localhost:8080/"
        }
      },
      "source": [
        "import nltk\n",
        "from nltk import tokenize\n",
        "nltk.download('punkt')\n",
        "\n",
        "list_of_english_sentences = []\n",
        "file = open('/content/gdrive/MyDrive/gerlangreconstruct/english_tales.txt','r').read()\n",
        "list_of_english_sentences = tokenize.sent_tokenize(file)\n",
        "print(len(list_of_english_sentences))"
      ],
      "execution_count": 23,
      "outputs": [
        {
          "output_type": "stream",
          "text": [
            "[nltk_data] Downloading package punkt to /root/nltk_data...\n",
            "[nltk_data]   Package punkt is already up-to-date!\n",
            "2651\n"
          ],
          "name": "stdout"
        }
      ]
    },
    {
      "cell_type": "code",
      "metadata": {
        "id": "zpQSacz8EPhi",
        "outputId": "f776fd4a-6c8f-43c1-adf4-d2c4ef6dfa4a",
        "colab": {
          "base_uri": "https://localhost:8080/"
        }
      },
      "source": [
        "list_of_german_sentences = []\n",
        "for english_sentence in list_of_english_sentences:\n",
        "  german_sentence = translator.translate(english_sentence, src='en',dest='de')\n",
        "  list_of_german_sentences.append(german_sentence.text)\n",
        "print(len(list_of_german_sentences))"
      ],
      "execution_count": 24,
      "outputs": [
        {
          "output_type": "stream",
          "text": [
            "2651\n"
          ],
          "name": "stdout"
        }
      ]
    },
    {
      "cell_type": "code",
      "metadata": {
        "id": "K9T6WjyyFPFG",
        "outputId": "e2a7c026-5bf0-4aae-dc15-f27be09fdf35",
        "colab": {
          "base_uri": "https://localhost:8080/",
          "height": 37
        }
      },
      "source": [
        "list_of_english_sentences[160]"
      ],
      "execution_count": 39,
      "outputs": [
        {
          "output_type": "execute_result",
          "data": {
            "application/vnd.google.colaboratory.intrinsic+json": {
              "type": "string"
            },
            "text/plain": [
              "'But she never hit on the right one.'"
            ]
          },
          "metadata": {
            "tags": []
          },
          "execution_count": 39
        }
      ]
    },
    {
      "cell_type": "code",
      "metadata": {
        "id": "ExNOQU9nFVId",
        "outputId": "f7f0416f-e17a-4d8c-b4c5-d697aaa663f1",
        "colab": {
          "base_uri": "https://localhost:8080/",
          "height": 37
        }
      },
      "source": [
        "list_of_german_sentences[160]#.text"
      ],
      "execution_count": 40,
      "outputs": [
        {
          "output_type": "execute_result",
          "data": {
            "application/vnd.google.colaboratory.intrinsic+json": {
              "type": "string"
            },
            "text/plain": [
              "'Aber sie hat nie das Richtige getroffen.'"
            ]
          },
          "metadata": {
            "tags": []
          },
          "execution_count": 40
        }
      ]
    },
    {
      "cell_type": "code",
      "metadata": {
        "colab": {
          "base_uri": "https://localhost:8080/"
        },
        "id": "IPyVoMDb0vsM",
        "outputId": "a4654768-c5de-48aa-9356-e2adec73d6f4"
      },
      "source": [
        "input_word_list = []\n",
        "target_word_list = []\n",
        "with open(\"/content/gdrive/MyDrive/gerlangreconstruct/german_english_dictionary.csv\") as f:\n",
        "    for line in f:\n",
        "      splitted_line = line.split(\",\")\n",
        "      input_word = splitted_line[0].lower()\n",
        "      input_word_to_append = ''.join(e for e in input_word if e.isalnum() and not e.isdigit())\n",
        "      input_word_list.append(input_word_to_append)\n",
        "      target_word = splitted_line[1].lower()\n",
        "      target_word_to_append = ''.join(e for e in target_word if e.isalnum() and not e.isdigit())\n",
        "      target_word_list.append(target_word_to_append)\n",
        "len(input_word_list)"
      ],
      "execution_count": null,
      "outputs": [
        {
          "output_type": "execute_result",
          "data": {
            "text/plain": [
              "257663"
            ]
          },
          "metadata": {
            "tags": []
          },
          "execution_count": 10
        }
      ]
    },
    {
      "cell_type": "code",
      "metadata": {
        "colab": {
          "base_uri": "https://localhost:8080/"
        },
        "id": "skEfvykM0ytF",
        "outputId": "4e083d63-d699-4358-96bd-b6e48269122b"
      },
      "source": [
        "len(target_word_list)\n",
        "input_word_list = input_word_list[:1000]\n",
        "target_word_list = target_word_list[:1000]\n",
        "len(target_word_list)"
      ],
      "execution_count": null,
      "outputs": [
        {
          "output_type": "execute_result",
          "data": {
            "text/plain": [
              "1000"
            ]
          },
          "metadata": {
            "tags": []
          },
          "execution_count": 11
        }
      ]
    },
    {
      "cell_type": "code",
      "metadata": {
        "id": "NW7wrDQT0q3o"
      },
      "source": [
        "import collections\n",
        "\n",
        "import helper\n",
        "import numpy as np\n",
        "\n",
        "from keras.preprocessing.text import Tokenizer\n",
        "from keras.preprocessing.sequence import pad_sequences\n",
        "from keras.models import Model, Sequential\n",
        "from keras.layers import GRU, Input, Dense, TimeDistributed, Activation, RepeatVector, Bidirectional, Dropout, LSTM\n",
        "from keras.layers.embeddings import Embedding\n",
        "from keras.optimizers import Adam\n",
        "from keras.losses import sparse_categorical_crossentropy"
      ],
      "execution_count": null,
      "outputs": []
    },
    {
      "cell_type": "code",
      "metadata": {
        "colab": {
          "base_uri": "https://localhost:8080/"
        },
        "id": "8-mqkVEn0q3u",
        "outputId": "cea758a0-ff5b-418a-8c14-7de52ae10990"
      },
      "source": [
        "from tensorflow.python.client import device_lib\n",
        "print(device_lib.list_local_devices())"
      ],
      "execution_count": null,
      "outputs": [
        {
          "output_type": "stream",
          "text": [
            "[name: \"/device:CPU:0\"\n",
            "device_type: \"CPU\"\n",
            "memory_limit: 268435456\n",
            "locality {\n",
            "}\n",
            "incarnation: 1759446718371640052\n",
            "]\n"
          ],
          "name": "stdout"
        }
      ]
    },
    {
      "cell_type": "code",
      "metadata": {
        "id": "S4KJpmBs0q3y"
      },
      "source": [
        "german_sentences = input_word_list\n",
        "english_sentences = target_word_list"
      ],
      "execution_count": null,
      "outputs": []
    },
    {
      "cell_type": "code",
      "metadata": {
        "colab": {
          "base_uri": "https://localhost:8080/"
        },
        "id": "l8ufJjmV0q31",
        "outputId": "24864842-8d1e-43a7-d560-75cb5a227e87"
      },
      "source": [
        "for sample_i in range(5):\n",
        "    print('German sample {}:  {}'.format(sample_i + 1, german_sentences[sample_i]))\n",
        "    print('English sample {}:  {}\\n'.format(sample_i + 1, english_sentences[sample_i]))"
      ],
      "execution_count": null,
      "outputs": [
        {
          "output_type": "stream",
          "text": [
            "German sample 1:  aale\n",
            "English sample 1:  eels\n",
            "\n",
            "German sample 2:  aalfell\n",
            "English sample 2:  eelskin\n",
            "\n",
            "German sample 3:  aalfischer\n",
            "English sample 3:  eeler\n",
            "\n",
            "German sample 4:  aalfänger\n",
            "English sample 4:  eeler\n",
            "\n",
            "German sample 5:  aalfänger\n",
            "English sample 5:  sniggler\n",
            "\n"
          ],
          "name": "stdout"
        }
      ]
    },
    {
      "cell_type": "code",
      "metadata": {
        "id": "68cNoj0e0q37"
      },
      "source": [
        "def count_letters(input_word_list):\n",
        "  input_letter_counter = {}\n",
        "  alphabet = {}\n",
        "  unique_index = 0\n",
        "  for word in input_word_list:\n",
        "    for letter in list(word):\n",
        "      if letter in input_letter_counter:\n",
        "        input_letter_counter[letter] = input_letter_counter[letter] + 1\n",
        "      else:\n",
        "        input_letter_counter[letter] = 1\n",
        "      if letter not in alphabet:\n",
        "        alphabet[letter] = unique_index\n",
        "        unique_index = unique_index + 1\n",
        "  return input_letter_counter, alphabet\n",
        "\n",
        "input_letter_counter, input_alphabet = count_letters(german_sentences)\n",
        "target_letter_counter, output_alphabet = count_letters(english_sentences)"
      ],
      "execution_count": null,
      "outputs": []
    },
    {
      "cell_type": "code",
      "metadata": {
        "colab": {
          "base_uri": "https://localhost:8080/"
        },
        "id": "tF0ZweGh25qS",
        "outputId": "e87c40ed-7965-4c20-ac20-ac76cbabdc79"
      },
      "source": [
        "input_letter_counter"
      ],
      "execution_count": null,
      "outputs": [
        {
          "output_type": "execute_result",
          "data": {
            "text/plain": [
              "{'a': 1583,\n",
              " 'b': 1305,\n",
              " 'c': 244,\n",
              " 'd': 376,\n",
              " 'e': 1260,\n",
              " 'f': 313,\n",
              " 'g': 622,\n",
              " 'h': 321,\n",
              " 'i': 420,\n",
              " 'j': 11,\n",
              " 'k': 180,\n",
              " 'l': 510,\n",
              " 'm': 121,\n",
              " 'n': 720,\n",
              " 'o': 149,\n",
              " 'p': 45,\n",
              " 'r': 596,\n",
              " 's': 354,\n",
              " 't': 513,\n",
              " 'u': 417,\n",
              " 'v': 28,\n",
              " 'w': 21,\n",
              " 'x': 2,\n",
              " 'y': 3,\n",
              " 'z': 51,\n",
              " 'ß': 10,\n",
              " 'ä': 85,\n",
              " 'é': 1,\n",
              " 'ö': 10,\n",
              " 'ü': 64}"
            ]
          },
          "metadata": {
            "tags": []
          },
          "execution_count": 17
        }
      ]
    },
    {
      "cell_type": "code",
      "metadata": {
        "colab": {
          "base_uri": "https://localhost:8080/"
        },
        "id": "9_tU_h7W5voo",
        "outputId": "efe1b4b3-2dd9-47b3-c190-2893d5a22b6c"
      },
      "source": [
        "input_alphabet"
      ],
      "execution_count": null,
      "outputs": [
        {
          "output_type": "execute_result",
          "data": {
            "text/plain": [
              "{'a': 0,\n",
              " 'b': 22,\n",
              " 'c': 6,\n",
              " 'd': 21,\n",
              " 'e': 2,\n",
              " 'f': 3,\n",
              " 'g': 11,\n",
              " 'h': 7,\n",
              " 'i': 4,\n",
              " 'j': 16,\n",
              " 'k': 24,\n",
              " 'l': 1,\n",
              " 'm': 13,\n",
              " 'n': 10,\n",
              " 'o': 17,\n",
              " 'p': 15,\n",
              " 'r': 8,\n",
              " 's': 5,\n",
              " 't': 14,\n",
              " 'u': 19,\n",
              " 'v': 18,\n",
              " 'w': 20,\n",
              " 'x': 27,\n",
              " 'y': 25,\n",
              " 'z': 23,\n",
              " 'ß': 28,\n",
              " 'ä': 9,\n",
              " 'é': 29,\n",
              " 'ö': 12,\n",
              " 'ü': 26}"
            ]
          },
          "metadata": {
            "tags": []
          },
          "execution_count": 18
        }
      ]
    },
    {
      "cell_type": "code",
      "metadata": {
        "id": "Jmn7M_nd0q3-"
      },
      "source": [
        "def tokenize(word, alphabet):\n",
        "  vectorized = []\n",
        "  for letter in list(word):\n",
        "    vectorized.append(alphabet[letter])\n",
        "  return vectorized\n",
        "\n",
        "tokenized_word = tokenize(\"fahrrad\", input_alphabet)"
      ],
      "execution_count": null,
      "outputs": []
    },
    {
      "cell_type": "code",
      "metadata": {
        "id": "CPWhUvWE7kq3"
      },
      "source": [
        "tokenized_word"
      ],
      "execution_count": null,
      "outputs": []
    },
    {
      "cell_type": "code",
      "metadata": {
        "id": "FQaXrc9e0q4A"
      },
      "source": [
        "def pad(x):\n",
        "  y = x\n",
        "  i = 0\n",
        "  number_of_zeros = 42-len(x)\n",
        "  while (i < number_of_zeros):\n",
        "      y.append(0)\n",
        "      i = i + 1\n",
        "  return y\n",
        "padded_word = pad(tokenized_word)"
      ],
      "execution_count": null,
      "outputs": []
    },
    {
      "cell_type": "code",
      "metadata": {
        "id": "UzN8Ywnw75uq"
      },
      "source": [
        "padded_word"
      ],
      "execution_count": null,
      "outputs": []
    },
    {
      "cell_type": "code",
      "metadata": {
        "id": "xcOk0jJX0q4F"
      },
      "source": [
        "def preprocess(x, y, input_alphabet, target_alphabet):\n",
        "\n",
        "    preprocess_x = []\n",
        "    preprocess_y = []\n",
        "\n",
        "    for word in x:\n",
        "      preprocess_word = tokenize(word, input_alphabet)\n",
        "      preprocess_x.append(preprocess_word)\n",
        "\n",
        "    for word in y:\n",
        "      preprocess_word = tokenize(word, target_alphabet)\n",
        "      preprocess_y.append(preprocess_word)\n",
        "\n",
        "    pad_list_x = []\n",
        "    pad_list_y = []\n",
        "\n",
        "    for vectorized_word in preprocess_x:\n",
        "      pad_list_x.append(pad(vectorized_word))\n",
        "\n",
        "    for vectorized_word in preprocess_y:\n",
        "      pad_list_y.append(pad(vectorized_word))\n",
        "\n",
        "    preprocess_x = pad_list_x\n",
        "    preprocess_y = pad_list_y\n",
        "\n",
        "    # Keras's sparse_categorical_crossentropy function requires the labels to be in 3 dimensions\n",
        "    # preprocess_y = preprocess_y.reshape(*preprocess_y.shape, 1)\n",
        "\n",
        "    return preprocess_x, preprocess_y\n",
        "\n",
        "preproc_german_sentences, preproc_english_sentences = preprocess(german_sentences, english_sentences, input_alphabet, output_alphabet)\n"
      ],
      "execution_count": null,
      "outputs": []
    },
    {
      "cell_type": "code",
      "metadata": {
        "id": "5iq5mycTCAsT"
      },
      "source": [
        "import tensorflow as tf\n",
        "\n",
        "preproc_english_sentences = preproc_english_sentences[:400]\n",
        "X_train = np.array(preproc_english_sentences)\n",
        "preproc_english_sentences = preproc_english_sentences[:400]\n",
        "y_train = np.array(preproc_english_sentences)\n",
        "# y_train = y_train.reshape(*y_train.shape, 1)\n",
        "X_dev = tf.constant([3.0, 1.0, 2.0])\n",
        "y_dev = tf.constant([0.0, 2.0, 1.0])"
      ],
      "execution_count": null,
      "outputs": []
    },
    {
      "cell_type": "code",
      "metadata": {
        "id": "7uxmZdq3ODT0"
      },
      "source": [
        "BATCH_SIZE, HIDDEN_SIZE = 32, 16\n",
        "NUM_ITERATIONS = 10\n",
        "NUM_EPOCHS_PER_ITERATION = 100\n",
        "\n",
        "model = Sequential()\n",
        "model.add(\n",
        "    GRU(\n",
        "        HIDDEN_SIZE,\n",
        "        return_sequences=False,\n",
        "        input_shape=(42, 1),\n",
        "        unroll=True\n",
        "    )\n",
        ")\n",
        "model.add(Dense(42))\n",
        "model.add(Activation(\"softmax\"))\n",
        "model.compile(loss=\"categorical_crossentropy\", optimizer=\"rmsprop\")\n",
        "\n",
        "for iteration in range(NUM_ITERATIONS):\n",
        "\n",
        "    print(\"=\" * 50)\n",
        "    if (iteration % 10 == 0):\n",
        "      print(\"Iteration #: %d\" % (iteration))\n",
        "    model.fit(X_train[:, :, np.newaxis], y_train, batch_size=BATCH_SIZE, epochs=NUM_EPOCHS_PER_ITERATION)"
      ],
      "execution_count": null,
      "outputs": []
    },
    {
      "cell_type": "code",
      "metadata": {
        "id": "cW7aMXusRp8P"
      },
      "source": [
        "pred = model.predict(X_train[:, :, np.newaxis], verbose=0)[0]"
      ],
      "execution_count": null,
      "outputs": []
    },
    {
      "cell_type": "code",
      "metadata": {
        "colab": {
          "base_uri": "https://localhost:8080/"
        },
        "id": "Q13GU6w0RzN-",
        "outputId": "c1bbca96-027c-4c03-b631-61eb471ff987"
      },
      "source": [
        "pred"
      ],
      "execution_count": null,
      "outputs": [
        {
          "output_type": "execute_result",
          "data": {
            "text/plain": [
              "array([1.5920916e-01, 4.6190623e-02, 6.3079035e-01, 1.0576850e-01,\n",
              "       2.5791464e-02, 1.5141212e-02, 1.5139827e-02, 1.6823906e-03,\n",
              "       2.8500427e-04, 1.3725962e-06, 2.8847420e-09, 9.0505614e-15,\n",
              "       2.9691087e-19, 8.1305163e-26, 1.8133100e-36, 0.0000000e+00,\n",
              "       0.0000000e+00, 0.0000000e+00, 0.0000000e+00, 0.0000000e+00,\n",
              "       0.0000000e+00, 0.0000000e+00, 0.0000000e+00, 0.0000000e+00,\n",
              "       0.0000000e+00, 0.0000000e+00, 0.0000000e+00, 0.0000000e+00,\n",
              "       0.0000000e+00, 0.0000000e+00, 0.0000000e+00, 0.0000000e+00,\n",
              "       0.0000000e+00, 0.0000000e+00, 0.0000000e+00, 0.0000000e+00,\n",
              "       0.0000000e+00, 0.0000000e+00, 0.0000000e+00, 0.0000000e+00,\n",
              "       0.0000000e+00, 0.0000000e+00], dtype=float32)"
            ]
          },
          "metadata": {
            "tags": []
          },
          "execution_count": 31
        }
      ]
    },
    {
      "cell_type": "code",
      "metadata": {
        "colab": {
          "base_uri": "https://localhost:8080/"
        },
        "id": "DbmgJvFKPs31",
        "outputId": "aff6c5de-3b50-4636-b680-a114d2fafdb2"
      },
      "source": [
        "np.shape(X_train)"
      ],
      "execution_count": null,
      "outputs": [
        {
          "output_type": "execute_result",
          "data": {
            "text/plain": [
              "(400, 42)"
            ]
          },
          "metadata": {
            "tags": []
          },
          "execution_count": 157
        }
      ]
    },
    {
      "cell_type": "code",
      "metadata": {
        "colab": {
          "base_uri": "https://localhost:8080/"
        },
        "id": "1EZgFxBwQRX9",
        "outputId": "d8de1d57-a18b-4efc-e879-7bcc909a35fb"
      },
      "source": [
        "np.shape(X_train[:, :, np.newaxis])"
      ],
      "execution_count": null,
      "outputs": [
        {
          "output_type": "execute_result",
          "data": {
            "text/plain": [
              "(400, 42, 1)"
            ]
          },
          "metadata": {
            "tags": []
          },
          "execution_count": 159
        }
      ]
    },
    {
      "cell_type": "code",
      "metadata": {
        "colab": {
          "base_uri": "https://localhost:8080/"
        },
        "id": "vL324zQHO2ci",
        "outputId": "37efe51f-7a2c-4d0f-a194-216d09b4fccd"
      },
      "source": [
        "y_train"
      ],
      "execution_count": null,
      "outputs": [
        {
          "output_type": "execute_result",
          "data": {
            "text/plain": [
              "array([[ 0,  0,  1, ...,  0,  0,  0],\n",
              "       [ 0,  0,  1, ...,  0,  0,  0],\n",
              "       [ 0,  0,  1, ...,  0,  0,  0],\n",
              "       ...,\n",
              "       [ 8, 19, 15, ...,  0,  0,  0],\n",
              "       [ 8, 19, 15, ...,  0,  0,  0],\n",
              "       [15,  4, 12, ...,  0,  0,  0]])"
            ]
          },
          "metadata": {
            "tags": []
          },
          "execution_count": 154
        }
      ]
    },
    {
      "cell_type": "code",
      "metadata": {
        "id": "_J5jbz0LgPg_"
      },
      "source": [
        "word = pred * 100\n",
        "word_int = word.astype(int)\n",
        "arr = np.delete(word_int, np.where(word_int == 0))"
      ],
      "execution_count": null,
      "outputs": []
    },
    {
      "cell_type": "code",
      "metadata": {
        "id": "dX4YydldgZK0",
        "colab": {
          "base_uri": "https://localhost:8080/"
        },
        "outputId": "9bfe929f-07b6-49bb-eb6d-d77688fbeedf"
      },
      "source": [
        "arr"
      ],
      "execution_count": null,
      "outputs": [
        {
          "output_type": "execute_result",
          "data": {
            "text/plain": [
              "array([15,  4, 63, 10,  2,  1,  1])"
            ]
          },
          "metadata": {
            "tags": []
          },
          "execution_count": 33
        }
      ]
    },
    {
      "cell_type": "code",
      "metadata": {
        "id": "IKqMJlSTh2zP"
      },
      "source": [
        "word = \"\"\n",
        "for number in arr:\n",
        "  for letter, _number in input_alphabet.items():\n",
        "    if _number == number:\n",
        "        word = word + letter"
      ],
      "execution_count": null,
      "outputs": []
    },
    {
      "cell_type": "code",
      "metadata": {
        "id": "UMEZU9F0iiVN",
        "colab": {
          "base_uri": "https://localhost:8080/",
          "height": 36
        },
        "outputId": "e4317fa7-10b3-4844-c4bc-c562abba8b70"
      },
      "source": [
        "word"
      ],
      "execution_count": null,
      "outputs": [
        {
          "output_type": "execute_result",
          "data": {
            "application/vnd.google.colaboratory.intrinsic+json": {
              "type": "string"
            },
            "text/plain": [
              "'pinell'"
            ]
          },
          "metadata": {
            "tags": []
          },
          "execution_count": 35
        }
      ]
    },
    {
      "cell_type": "code",
      "metadata": {
        "id": "NB23WbO5lSzS"
      },
      "source": [
        "word = \"\"\n",
        "for number in arr:\n",
        "  for letter, _number in output_alphabet.items():\n",
        "    if _number == number:\n",
        "        word = word + letter"
      ],
      "execution_count": null,
      "outputs": []
    },
    {
      "cell_type": "code",
      "metadata": {
        "id": "58dWKS0BlV1q",
        "colab": {
          "base_uri": "https://localhost:8080/",
          "height": 36
        },
        "outputId": "593ca2f1-8493-475a-ce05-035ef5834aec"
      },
      "source": [
        "word"
      ],
      "execution_count": null,
      "outputs": [
        {
          "output_type": "execute_result",
          "data": {
            "application/vnd.google.colaboratory.intrinsic+json": {
              "type": "string"
            },
            "text/plain": [
              "'difsll'"
            ]
          },
          "metadata": {
            "tags": []
          },
          "execution_count": 37
        }
      ]
    },
    {
      "cell_type": "code",
      "metadata": {
        "id": "t2JJJ_vCmHT7"
      },
      "source": [
        "arr = X_train[42]"
      ],
      "execution_count": null,
      "outputs": []
    },
    {
      "cell_type": "code",
      "metadata": {
        "id": "e2a4EFv4mSmU"
      },
      "source": [
        "word = \"\"\n",
        "for number in arr:\n",
        "  for letter, _number in output_alphabet.items():\n",
        "    if _number == number:\n",
        "        word = word + letter"
      ],
      "execution_count": null,
      "outputs": []
    },
    {
      "cell_type": "code",
      "metadata": {
        "id": "yIvUAvwZmbeK",
        "colab": {
          "base_uri": "https://localhost:8080/",
          "height": 36
        },
        "outputId": "ddea5649-404f-494f-a121-c49a7192f877"
      },
      "source": [
        "word"
      ],
      "execution_count": null,
      "outputs": [
        {
          "output_type": "execute_result",
          "data": {
            "application/vnd.google.colaboratory.intrinsic+json": {
              "type": "string"
            },
            "text/plain": [
              "'horribleeeeeeeeeeeeeeeeeeeeeeeeeeeeeeeeeee'"
            ]
          },
          "metadata": {
            "tags": []
          },
          "execution_count": 82
        }
      ]
    },
    {
      "cell_type": "code",
      "metadata": {
        "id": "lCLc6kD4m2TV"
      },
      "source": [
        "arr = y_train[42]\n",
        "german_word = \"\"\n",
        "for number in arr:\n",
        "  for letter, _number in input_alphabet.items():\n",
        "    if _number == number:\n",
        "        german_word = german_word + letter"
      ],
      "execution_count": null,
      "outputs": []
    },
    {
      "cell_type": "code",
      "metadata": {
        "id": "CsMbTPxCm87N",
        "colab": {
          "base_uri": "https://localhost:8080/",
          "height": 36
        },
        "outputId": "be9e2088-1732-407d-caa5-7db41841add5"
      },
      "source": [
        "german_word"
      ],
      "execution_count": null,
      "outputs": [
        {
          "output_type": "execute_result",
          "data": {
            "application/vnd.google.colaboratory.intrinsic+json": {
              "type": "string"
            },
            "text/plain": [
              "'mgcciulaaaaaaaaaaaaaaaaaaaaaaaaaaaaaaaaaaa'"
            ]
          },
          "metadata": {
            "tags": []
          },
          "execution_count": 84
        }
      ]
    },
    {
      "cell_type": "code",
      "metadata": {
        "id": "_XzmUePknSY8"
      },
      "source": [
        "pred = model.predict(X_train[:, :, np.newaxis], verbose=0)[42]"
      ],
      "execution_count": null,
      "outputs": []
    },
    {
      "cell_type": "code",
      "metadata": {
        "id": "DVYkWg3inWFY",
        "colab": {
          "base_uri": "https://localhost:8080/"
        },
        "outputId": "77e16bef-d466-4b1b-8d15-08494a6c559a"
      },
      "source": [
        "pred"
      ],
      "execution_count": null,
      "outputs": [
        {
          "output_type": "execute_result",
          "data": {
            "text/plain": [
              "array([1.5920916e-01, 4.6190623e-02, 6.3079035e-01, 1.0576850e-01,\n",
              "       2.5791464e-02, 1.5141212e-02, 1.5139827e-02, 1.6823906e-03,\n",
              "       2.8500427e-04, 1.3725962e-06, 2.8847420e-09, 9.0505614e-15,\n",
              "       2.9691087e-19, 8.1305163e-26, 1.8133100e-36, 0.0000000e+00,\n",
              "       0.0000000e+00, 0.0000000e+00, 0.0000000e+00, 0.0000000e+00,\n",
              "       0.0000000e+00, 0.0000000e+00, 0.0000000e+00, 0.0000000e+00,\n",
              "       0.0000000e+00, 0.0000000e+00, 0.0000000e+00, 0.0000000e+00,\n",
              "       0.0000000e+00, 0.0000000e+00, 0.0000000e+00, 0.0000000e+00,\n",
              "       0.0000000e+00, 0.0000000e+00, 0.0000000e+00, 0.0000000e+00,\n",
              "       0.0000000e+00, 0.0000000e+00, 0.0000000e+00, 0.0000000e+00,\n",
              "       0.0000000e+00, 0.0000000e+00], dtype=float32)"
            ]
          },
          "metadata": {
            "tags": []
          },
          "execution_count": 66
        }
      ]
    },
    {
      "cell_type": "code",
      "metadata": {
        "id": "MWQZqv9LnZgm"
      },
      "source": [
        "word = pred * 100\n",
        "word_int = word.astype(int)\n",
        "# arr = np.delete(word_int, np.where(word_int == 0))"
      ],
      "execution_count": null,
      "outputs": []
    },
    {
      "cell_type": "code",
      "metadata": {
        "id": "m91UsmLaoD70"
      },
      "source": [
        "predicted_word = \"\"\n",
        "for number in arr:\n",
        "  for letter, _number in input_alphabet.items():\n",
        "    if _number == number:\n",
        "        predicted_word = predicted_word + letter"
      ],
      "execution_count": null,
      "outputs": []
    },
    {
      "cell_type": "code",
      "metadata": {
        "id": "8WKSGQ4toQ7m",
        "colab": {
          "base_uri": "https://localhost:8080/",
          "height": 36
        },
        "outputId": "d8fb833d-495e-4dbb-f9f7-4f57926964b7"
      },
      "source": [
        "predicted_word"
      ],
      "execution_count": null,
      "outputs": [
        {
          "output_type": "execute_result",
          "data": {
            "application/vnd.google.colaboratory.intrinsic+json": {
              "type": "string"
            },
            "text/plain": [
              "'mgcciulaaaaaaaaaaaaaaaaaaaaaaaaaaaaaaaaaaa'"
            ]
          },
          "metadata": {
            "tags": []
          },
          "execution_count": 87
        }
      ]
    },
    {
      "cell_type": "code",
      "metadata": {
        "id": "DZaVOJkiwJTW"
      },
      "source": [
        ""
      ],
      "execution_count": null,
      "outputs": []
    }
  ]
}